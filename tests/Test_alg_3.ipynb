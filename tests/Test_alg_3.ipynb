{
 "cells": [
  {
   "cell_type": "markdown",
   "metadata": {},
   "source": [
    "alg_3 is leapfrog in body frame"
   ]
  },
  {
   "cell_type": "code",
   "execution_count": 1,
   "metadata": {},
   "outputs": [
    {
     "name": "stdout",
     "output_type": "stream",
     "text": [
      "/home/david/src/4DRigid/src\n"
     ]
    }
   ],
   "source": [
    "cd ../src"
   ]
  },
  {
   "cell_type": "code",
   "execution_count": 2,
   "metadata": {},
   "outputs": [],
   "source": [
    "import numpy as np\n",
    "import matplotlib.pyplot as plt\n",
    "import alg_3 as pusher\n",
    "import quat\n",
    "import rot\n",
    "\n",
    "def test(Omega0,J0,dt,N,dumpFreq,ql_init=None,qr_init=None):\n",
    "    if ql_init==None and qr_init==None:\n",
    "        qlsim=[1,0,0,0]\n",
    "        qrsim=[1,0,0,0]\n",
    "    else:\n",
    "        qlsim=ql_init\n",
    "        qrsim=qr_init\n",
    "    Omegasim=Omega0\n",
    "    qls=[qlsim]\n",
    "    qrs=[qrsim]\n",
    "    Omegas=[Omega0]\n",
    "    ts=[0]\n",
    "    tsim=0\n",
    "    \n",
    "    for i in range(N):\n",
    "        qlsim,qrsim,Omegasim=pusher.step(qlsim,qrsim,Omegasim,J0,dt)\n",
    "        tsim+=dt\n",
    "        if(i%dumpFreq==0):\n",
    "            qls.append(qlsim)\n",
    "            qrs.append(qrsim)\n",
    "            Omegas.append(Omegasim)\n",
    "            ts.append(tsim)\n",
    "            print(str(i)+'/'+str(N)+'\\r',end='')\n",
    "    qls=np.array(qls)   \n",
    "    qrs=np.array(qrs)\n",
    "    ts=np.array(ts)\n",
    "    Rs=[rot.as_matrix(qls[i],qrs[i]) for i in range(len(qls))]\n",
    "    KEs=[pusher.getKE(Omegas[i],J0,dt) for i in range(len(qls))]\n",
    "    Rs=np.array(Rs)\n",
    "    KEs=np.array(KEs)\n",
    "    Omegas=np.array(Omegas)\n",
    "    return ts,qls,qrs,Rs,KEs,Omegas"
   ]
  },
  {
   "cell_type": "markdown",
   "metadata": {},
   "source": [
    "## A constant rotation of a 4D sphere\n",
    "sanity check"
   ]
  },
  {
   "cell_type": "code",
   "execution_count": 3,
   "metadata": {
    "scrolled": true
   },
   "outputs": [
    {
     "name": "stdout",
     "output_type": "stream",
     "text": [
      "0/100\r",
      "1/100\r",
      "2/100\r",
      "3/100\r",
      "4/100\r",
      "5/100\r",
      "6/100\r",
      "7/100\r",
      "8/100\r",
      "9/100\r",
      "10/100\r",
      "11/100\r",
      "12/100\r",
      "13/100\r",
      "14/100\r",
      "15/100\r",
      "16/100\r",
      "17/100\r",
      "18/100\r",
      "19/100\r",
      "20/100\r",
      "21/100\r",
      "22/100\r",
      "23/100\r",
      "24/100\r",
      "25/100\r",
      "26/100\r",
      "27/100\r",
      "28/100\r",
      "29/100\r",
      "30/100\r",
      "31/100\r",
      "32/100\r",
      "33/100\r",
      "34/100\r",
      "35/100\r",
      "36/100\r",
      "37/100\r",
      "38/100\r",
      "39/100\r",
      "40/100\r",
      "41/100\r",
      "42/100\r",
      "43/100\r",
      "44/100\r",
      "45/100\r",
      "46/100\r",
      "47/100\r",
      "48/100\r",
      "49/100\r",
      "50/100\r",
      "51/100\r",
      "52/100\r",
      "53/100\r",
      "54/100\r",
      "55/100\r",
      "56/100\r",
      "57/100\r",
      "58/100\r",
      "59/100\r",
      "60/100\r",
      "61/100\r",
      "62/100\r",
      "63/100\r",
      "64/100\r",
      "65/100\r",
      "66/100\r",
      "67/100\r",
      "68/100\r",
      "69/100\r",
      "70/100\r",
      "71/100\r",
      "72/100\r",
      "73/100\r",
      "74/100\r",
      "75/100\r",
      "76/100\r",
      "77/100\r",
      "78/100\r",
      "79/100\r",
      "80/100\r",
      "81/100\r",
      "82/100\r",
      "83/100\r",
      "84/100\r",
      "85/100\r",
      "86/100\r",
      "87/100\r",
      "88/100\r",
      "89/100\r",
      "90/100\r",
      "91/100\r",
      "92/100\r",
      "93/100\r",
      "94/100\r",
      "95/100\r",
      "96/100\r",
      "97/100\r",
      "98/100\r",
      "99/100\r"
     ]
    },
    {
     "data": {
      "text/plain": [
       "[<matplotlib.lines.Line2D at 0x7f2b23e11470>]"
      ]
     },
     "execution_count": 3,
     "metadata": {},
     "output_type": "execute_result"
    },
    {
     "data": {
      "image/png": "[encoded data removed]",
      "text/plain": [
       "<Figure size 1080x216 with 3 Axes>"
      ]
     },
     "metadata": {
      "needs_background": "light"
     },
     "output_type": "display_data"
    }
   ],
   "source": [
    "# test parameters\n",
    "J0 = np.diag([1,1,1,1]) # principal 2nd moments\n",
    "Omega0 = np.array([[0,-0.5,0,0],\n",
    "                  [0,0,0,0],\n",
    "                  [0,0,0,0],\n",
    "                  [0,0,0,0]])# Angular velocity, specify the upper triangle\n",
    "Omega0 = Omega0-Omega0.T # completes the lower half\n",
    "# run test\n",
    "ts,qls,qrs,Rs,KEs,Omegas=test(Omega0,J0,dt=0.1,N=100,dumpFreq=1)\n",
    "\n",
    "fig = plt.figure(figsize=(15,3))\n",
    "ax=fig.add_subplot(131)\n",
    "ax2=fig.add_subplot(132)\n",
    "ax3=fig.add_subplot(133)\n",
    "\n",
    "ax.set_title('Kinetic Energy')\n",
    "ax.set_xlabel('$t$')\n",
    "ax.set_ylabel('$KE$')\n",
    "ax.set_ylim(bottom=0,top=1)\n",
    "ax.plot(ts,KEs,c='red')\n",
    "\n",
    "ax2.set_title('$R_{11},R_{21}$')\n",
    "ax2.set_xlabel('$t$')\n",
    "ax2.set_ylabel('$R_{11}$')\n",
    "#ax2.set_ylim(bottom=-1,top=1)\n",
    "ax2.plot(ts,Rs[:,0,0],c='orange')\n",
    "ax2.plot(ts,Rs[:,1,0],c='blue')\n",
    "\n",
    "ax3.set_title('$\\Omega_{12}$')\n",
    "ax3.set_xlabel('$t$')\n",
    "ax3.set_ylabel('$\\Omega_{12}$')\n",
    "ax3.set_ylim(bottom=-1,top=1)\n",
    "ax3.plot(ts,Omegas[:,0,1],c='brown')"
   ]
  },
  {
   "cell_type": "code",
   "execution_count": 4,
   "metadata": {},
   "outputs": [
    {
     "name": "stdout",
     "output_type": "stream",
     "text": [
      "[[ 0.  -0.5  0.   0. ]\n",
      " [ 0.5  0.   0.   0. ]\n",
      " [ 0.   0.   0.   0. ]\n",
      " [ 0.   0.   0.   0. ]]\n",
      "[[ 0.87758256 -0.47942554  0.          0.        ]\n",
      " [ 0.47942554  0.87758256  0.          0.        ]\n",
      " [ 0.          0.          1.          0.        ]\n",
      " [ 0.          0.          0.          1.        ]]\n",
      "0.25\n"
     ]
    }
   ],
   "source": [
    "print(Omegas[10])\n",
    "print(Rs[10])\n",
    "print(KEs[10])"
   ]
  },
  {
   "cell_type": "markdown",
   "metadata": {},
   "source": [
    "As seen above, only the xy moments should matter. We can collapse the zw dimensions onto the xy plane. We would have a 2D disk with non-uniform density $\\rho(r)$. In 2D, the only moment of inertia is\n",
    "$$I=\\sum_{\\alpha}m_{\\alpha}r_{\\alpha}^2=\\sum_{\\alpha}m_{\\alpha}x_{\\alpha}^2+\\sum_{\\alpha}m_{\\alpha}y_{\\alpha}^2=J_{xx}+J_{yy}$$\n",
    "In this case we have $J_{xx}=J_{yy}=1$. So $I=2$.\n",
    "In 2D we also have $L=I\\omega$ and $T=\\frac{1}{2}I\\omega^2$. Therefore\n",
    "$$\\omega=\\frac{L}{I}=\\frac{1}{2}$$\n",
    "$$T=\\frac{1}{2}\\cdot2\\cdot\\left(\\frac{1}{2}\\right)^2=\\frac{1}{4}$$\n",
    "Period of rotation is\n",
    "$$P=\\frac{2\\pi}{\\omega}=4\\pi$$\n",
    "In plot for $R_{11}$ we see a it traverses half an oscillation in $t=2\\pi$. All check."
   ]
  },
  {
   "cell_type": "markdown",
   "metadata": {},
   "source": [
    "## Can we ignore the 4th dimension in some cases?"
   ]
  },
  {
   "cell_type": "code",
   "execution_count": 5,
   "metadata": {},
   "outputs": [
    {
     "name": "stdout",
     "output_type": "stream",
     "text": [
      "0/100\r",
      "1/100\r",
      "2/100\r",
      "3/100\r",
      "4/100\r",
      "5/100\r",
      "6/100\r",
      "7/100\r",
      "8/100\r",
      "9/100\r",
      "10/100\r",
      "11/100\r",
      "12/100\r",
      "13/100\r",
      "14/100\r",
      "15/100\r",
      "16/100\r",
      "17/100\r",
      "18/100\r",
      "19/100\r",
      "20/100\r",
      "21/100\r",
      "22/100\r",
      "23/100\r",
      "24/100\r",
      "25/100\r",
      "26/100\r",
      "27/100\r",
      "28/100\r",
      "29/100\r",
      "30/100\r",
      "31/100\r",
      "32/100\r",
      "33/100\r",
      "34/100\r",
      "35/100\r",
      "36/100\r",
      "37/100\r",
      "38/100\r",
      "39/100\r",
      "40/100\r",
      "41/100\r",
      "42/100\r",
      "43/100\r",
      "44/100\r",
      "45/100\r",
      "46/100\r",
      "47/100\r",
      "48/100\r",
      "49/100\r",
      "50/100\r",
      "51/100\r",
      "52/100\r",
      "53/100\r",
      "54/100\r",
      "55/100\r",
      "56/100\r",
      "57/100\r",
      "58/100\r",
      "59/100\r",
      "60/100\r",
      "61/100\r",
      "62/100\r",
      "63/100\r",
      "64/100\r",
      "65/100\r",
      "66/100\r",
      "67/100\r",
      "68/100\r",
      "69/100\r",
      "70/100\r",
      "71/100\r",
      "72/100\r",
      "73/100\r",
      "74/100\r",
      "75/100\r",
      "76/100\r",
      "77/100\r",
      "78/100\r",
      "79/100\r",
      "80/100\r",
      "81/100\r",
      "82/100\r",
      "83/100\r",
      "84/100\r",
      "85/100\r",
      "86/100\r",
      "87/100\r",
      "88/100\r",
      "89/100\r",
      "90/100\r",
      "91/100\r",
      "92/100\r",
      "93/100\r",
      "94/100\r",
      "95/100\r",
      "96/100\r",
      "97/100\r",
      "98/100\r",
      "99/100\r"
     ]
    },
    {
     "data": {
      "text/plain": [
       "[<matplotlib.lines.Line2D at 0x7f2b23ad8358>]"
      ]
     },
     "execution_count": 5,
     "metadata": {},
     "output_type": "execute_result"
    },
    {
     "data": {
      "image/png": "[encoded data removed]",
      "text/plain": [
       "<Figure size 1080x216 with 3 Axes>"
      ]
     },
     "metadata": {
      "needs_background": "light"
     },
     "output_type": "display_data"
    }
   ],
   "source": [
    "# test parameters\n",
    "J0 = np.diag([1,2,3,4]) # principal 2nd moments\n",
    "Omega0 = np.array([[0,-1/3,-0.5,0],\n",
    "                  [0,0,0.2,0],\n",
    "                  [0,0,0,0],\n",
    "                  [0,0,0,0]])# Angular velocity, specify the upper triangle\n",
    "Omega0 = Omega0-Omega0.T # completes the lower half\n",
    "# run test\n",
    "ts,qls,qrs,Rs,KEs,Omegas=test(Omega0,J0,dt=0.1,N=100,dumpFreq=1)\n",
    "\n",
    "fig = plt.figure(figsize=(15,3))\n",
    "ax=fig.add_subplot(131)\n",
    "ax2=fig.add_subplot(132)\n",
    "ax3=fig.add_subplot(133)\n",
    "\n",
    "ax.set_title('Kinetic Energy')\n",
    "ax.set_xlabel('$t$')\n",
    "ax.set_ylabel('$KE$')\n",
    "ax.set_ylim(bottom=0,top=1)\n",
    "ax.plot(ts,KEs,c='red')\n",
    "\n",
    "ax2.set_title('$R_{11},R_{21}$')\n",
    "ax2.set_xlabel('$t$')\n",
    "ax2.set_ylabel('$R_{11}$')\n",
    "#ax2.set_ylim(bottom=-1,top=1)\n",
    "ax2.plot(ts,Rs[:,0,0],c='orange')\n",
    "ax2.plot(ts,Rs[:,1,0],c='blue')\n",
    "\n",
    "ax3.set_title('$\\Omega_{12}$')\n",
    "ax3.set_xlabel('$t$')\n",
    "ax3.set_ylabel('$\\Omega_{12}$')\n",
    "ax3.set_ylim(bottom=-1,top=1)\n",
    "ax3.plot(ts,Omegas[:,0,1],c='brown')"
   ]
  },
  {
   "cell_type": "code",
   "execution_count": 6,
   "metadata": {
    "scrolled": false
   },
   "outputs": [
    {
     "name": "stdout",
     "output_type": "stream",
     "text": [
      "[[ 0.         -0.40468106 -0.41400013  0.        ]\n",
      " [ 0.40468106  0.          0.26764032  0.        ]\n",
      " [ 0.41400013 -0.26764032  0.          0.        ]\n",
      " [ 0.          0.          0.          0.        ]]\n",
      "[[ 4.02163472e-01 -3.43720903e-01 -8.48599130e-01  0.00000000e+00]\n",
      " [ 7.38289899e-01  6.69894078e-01  7.85490216e-02 -1.11022302e-16]\n",
      " [ 5.41472591e-01 -6.58101713e-01  5.23172599e-01 -1.11022302e-16]\n",
      " [ 8.32667268e-17  0.00000000e+00  1.11022302e-16  1.00000000e+00]]\n",
      "0.7675475140273234\n"
     ]
    }
   ],
   "source": [
    "print(Omegas[20])\n",
    "print(Rs[20])\n",
    "print(KEs[20])"
   ]
  },
  {
   "cell_type": "markdown",
   "metadata": {},
   "source": [
    "Initialized with diagonal moment of inertia and no xw,yw,zw angular momentum. w dimension is left alone. As seen in the matrix output, the w row and column has neglegible values."
   ]
  },
  {
   "cell_type": "markdown",
   "metadata": {},
   "source": [
    "## Wobbling disk"
   ]
  },
  {
   "cell_type": "markdown",
   "metadata": {},
   "source": [
    "Let's place two light perturbing masses (each with $m_1=0.5$) at x=+/-1 and two heavy counter balancing masses (each with $m_2=50$) at y=+/-1. The principle axis are x, y, and z. z axis has most moment of inertia and the y axis has the least. x axis is the intermediate axis"
   ]
  },
  {
   "cell_type": "markdown",
   "metadata": {},
   "source": [
    "![mass distribution](../img/schematic.png)"
   ]
  },
  {
   "cell_type": "markdown",
   "metadata": {},
   "source": [
    "Currently the rigid body does not have spatial extend in the z and w dimention. This would cause a division by zero error calculating the rotation around zw plane. Therefore I will place two counter balancing masses (each with $m_4=50$) at the w=+/-1. I am not sure if the w dimension will be stay still in the rotation. For one of the masses on axis x, the contribution to the J matrix is\n",
    "    $$m\\begin{pmatrix}1&0&0&0\\\\0&0&0&0\\\\0&0&0&0\\\\0&0&0&0\\end{pmatrix}$$\n",
    "The entire J matrix is then\n",
    "    $$\\begin{pmatrix}2m_1&0&0&0\\\\0&2m_2&0&0\\\\0&0&0&0\\\\0&0&0&2m_4\\end{pmatrix}$$\n",
    "Choose initial rotation around xy plane, with angular velocity $\\pi$ rad/s.\n",
    "We also need an initial perturbation in the orientation. We need to apply a small rotation araound the xz plane.\n",
    "The small mass will oscillate around the equilibrium point of the centrifugal potential."
   ]
  },
  {
   "cell_type": "code",
   "execution_count": 7,
   "metadata": {},
   "outputs": [
    {
     "name": "stdout",
     "output_type": "stream",
     "text": [
      "99900/100000\r"
     ]
    }
   ],
   "source": [
    "# test parameters\n",
    "m1=0.5\n",
    "m2=50\n",
    "m4=50\n",
    "Omega_init=np.array([[0,0,0,0],\n",
    "                    [np.pi,0,0,0],\n",
    "                    [0,0,0,0],\n",
    "                    [0,0,0,0]])#rad/s\n",
    "Omega_init=Omega_init-Omega_init.T\n",
    "\n",
    "theta=0.05#rad\n",
    "theta_mat=np.array([[0,0,-theta,0],\n",
    "                    [0,0,0,0],\n",
    "                    [theta,0,0,0],\n",
    "                    [0,0,0,0]])\n",
    "ql_init,qr_init=rot.rotate_quat([1,0,0,0],[1,0,0,0],theta_mat,'world')\n",
    "R_init=rot.as_matrix(ql_init,qr_init)\n",
    "J0 = np.diag([2*m1,2*m2,0,2*m4]) # principal 2nd moments\n",
    "\n",
    "# run test\n",
    "ts0,qls0,qrs0,Rs0,KEs0,Omegas0=test(Omega_init,J0,dt=0.0001,N=100000,dumpFreq=100,ql_init=ql_init,qr_init=qr_init)"
   ]
  },
  {
   "cell_type": "code",
   "execution_count": 8,
   "metadata": {},
   "outputs": [
    {
     "data": {
      "text/plain": [
       "[<matplotlib.lines.Line2D at 0x7f2b2385c128>]"
      ]
     },
     "execution_count": 8,
     "metadata": {},
     "output_type": "execute_result"
    },
    {
     "data": {
      "image/png": "[encoded data removed]",
      "text/plain": [
       "<Figure size 1080x216 with 3 Axes>"
      ]
     },
     "metadata": {
      "needs_background": "light"
     },
     "output_type": "display_data"
    }
   ],
   "source": [
    "fig = plt.figure(figsize=(15,3))\n",
    "ax=fig.add_subplot(131)\n",
    "ax2=fig.add_subplot(132)\n",
    "ax3=fig.add_subplot(133)\n",
    "\n",
    "ax.set_title('Kinetic Energy')\n",
    "ax.set_xlabel('$t$')\n",
    "ax.set_ylabel('$KE$')\n",
    "ax.set_ylim(bottom=0,top=1000)\n",
    "ax.plot(ts0,KEs0,c='red')\n",
    "\n",
    "ax2.set_title('$R_{22},R_{31}$')\n",
    "ax2.set_xlabel('$t$')\n",
    "ax2.set_ylabel('$R_{11}$')\n",
    "#ax2.set_ylim(bottom=-1,top=1)\n",
    "ax2.plot(ts0,Rs0[:,1,1],c='orange')\n",
    "ax2.plot(ts0,Rs0[:,2,0],c='blue')\n",
    "\n",
    "ax3.set_title('$\\Omega_{13}$')\n",
    "ax3.set_xlabel('$t$')\n",
    "ax3.set_ylabel('$\\Omega_{13}$')\n",
    "#ax3.set_ylim(bottom=-10,top=10)\n",
    "ax3.plot(ts0,Omegas0[:,0,2],c='brown')"
   ]
  },
  {
   "cell_type": "code",
   "execution_count": 10,
   "metadata": {},
   "outputs": [
    {
     "name": "stdout",
     "output_type": "stream",
     "text": [
      "[[ 0.99875026  0.         -0.04997917  0.        ]\n",
      " [ 0.          1.          0.          0.        ]\n",
      " [ 0.04997917  0.          0.99875026  0.        ]\n",
      " [ 0.          0.          0.          1.        ]]\n",
      "[[ 0.         -3.14159265  0.          0.        ]\n",
      " [ 3.14159265  0.          0.          0.        ]\n",
      " [ 0.          0.          0.          0.        ]\n",
      " [ 0.          0.          0.          0.        ]]\n",
      "[[ 0.         -3.14159265  0.          0.        ]\n",
      " [ 3.14159265  0.          0.          0.        ]\n",
      " [ 0.          0.          0.          0.        ]\n",
      " [ 0.          0.          0.          0.        ]]\n",
      "[[ 9.98267244e-01  3.10578904e-02 -4.99791693e-02  0.00000000e+00]\n",
      " [-3.10967533e-02  9.99516379e-01 -1.44740990e-15  0.00000000e+00]\n",
      " [ 4.99549983e-02  1.55418990e-03  9.98750260e-01  0.00000000e+00]\n",
      " [ 0.00000000e+00  0.00000000e+00  0.00000000e+00  1.00000000e+00]]\n",
      "498.41502225501256\n"
     ]
    }
   ],
   "source": [
    "print(R_init)\n",
    "print(Omega_init)\n",
    "\n",
    "print(Omegas0[-1])\n",
    "print(Rs0[-1])\n",
    "print(KEs0[2])"
   ]
  },
  {
   "cell_type": "markdown",
   "metadata": {},
   "source": [
    "The simulation is highly unstable. $R_{22}$ (yellow) is the y coordinate of the heavy mass $m_2$. It is oscillating with the correct frequency. $R_{31}$ (blue) is the z coordinate of the light mas $m_1$. It is oscillating as expected. The expected frequency is derived as follows. The centrifugal force on each light mass is\n",
    "    $$F=m_1\\omega^2x$$\n",
    "The effective potential is\n",
    "    $$U=-\\frac{1}{2}m_1\\omega^2x^2$$\n",
    "suppose the light mass is off the equilibrium by angle $\\theta$. Then\n",
    "    $$U=-\\frac{1}{2}m_1\\omega^2R^2\\cos^2\\theta$$\n",
    "Use small angle approx\n",
    "    $$U=\\frac{1}{2}m_1\\omega^2R^2\\theta^2+\\mathrm{Const.}$$\n",
    "Kinetic energy is\n",
    "    $$T=\\frac{1}{2}m_1R^2\\dot{\\theta}^2$$\n",
    "The angular frequency of oscillation is\n",
    "    $$\\sqrt{\\frac{m_1\\omega^2R^2}{m_1R^2}}=\\omega$$\n",
    "exactly the same as the original oscillation frequency, just like plotted\n",
    "w dimension is more or less unperturbed, which is good news. The rotation update must be performed in the world frame in this case. Performing it in body frame is incorrect and will break the program"
   ]
  },
  {
   "cell_type": "markdown",
   "metadata": {},
   "source": [
    "## A general rotation, with three different timesteps"
   ]
  },
  {
   "cell_type": "code",
   "execution_count": 16,
   "metadata": {},
   "outputs": [
    {
     "name": "stdout",
     "output_type": "stream",
     "text": [
      "99000/100000\r"
     ]
    }
   ],
   "source": [
    "# test parameters\n",
    "J0 = np.diag([1,2,3,4]) # principal 2nd moments\n",
    "Omega_init = np.array([[0,-1/3,-5,-0.6],\n",
    "                  [0,0,-2,-5/3],\n",
    "                  [0,0,0,-1/7],\n",
    "                  [0,0,0,0]])# Angular velocity, specify the upper triangle\n",
    "Omega_init = Omega_init-Omega_init.T # completes the lower half\n",
    "# run test\n",
    "ts,qls,qrs,Rs,KEs,Omegas=test(Omega_init,J0,dt=0.01,N=1000,dumpFreq=10)\n",
    "ts2,qls2,qrs2,Rs2,KEs2,Omegas2=test(Omega_init,J0,dt=0.005,N=2000,dumpFreq=20)\n",
    "ts3,qls3,qrs3,Rs3,KEs3,Omegas3=test(Omega_init,J0,dt=0.0001,N=100000,dumpFreq=1000)"
   ]
  },
  {
   "cell_type": "code",
   "execution_count": 17,
   "metadata": {
    "scrolled": true
   },
   "outputs": [
    {
     "data": {
      "text/plain": [
       "[<matplotlib.lines.Line2D at 0x7f2b23a17780>]"
      ]
     },
     "execution_count": 17,
     "metadata": {},
     "output_type": "execute_result"
    },
    {
     "data": {
      "image/png": "[encoded data removed]",
      "text/plain": [
       "<Figure size 1080x216 with 3 Axes>"
      ]
     },
     "metadata": {
      "needs_background": "light"
     },
     "output_type": "display_data"
    }
   ],
   "source": [
    "fig = plt.figure(figsize=(15,3))\n",
    "ax=fig.add_subplot(131)\n",
    "ax2=fig.add_subplot(132)\n",
    "ax3=fig.add_subplot(133)\n",
    "\n",
    "ax.set_title('Kinetic Energy')\n",
    "ax.set_xlabel('$t$')\n",
    "ax.set_ylabel('$KE$')\n",
    "#ax.set_ylim(bottom=65,top=90)\n",
    "ax.plot(ts,KEs,'--',linewidth=0.5,c='red')\n",
    "ax.plot(ts2,KEs2,'--',linewidth=2,c='red')\n",
    "ax.plot(ts3,KEs3,c='red')\n",
    "\n",
    "ax2.set_title('$R_{11}$')\n",
    "ax2.set_xlabel('$t$')\n",
    "ax2.set_ylabel('$R_{11}$')\n",
    "#ax2.set_ylim(bottom=-1,top=1)\n",
    "ax2.plot(ts,Rs[:,0,0],'--',linewidth=0.5,c='orange')\n",
    "ax2.plot(ts2,Rs2[:,0,0],'--',linewidth=2,c='orange')\n",
    "ax2.plot(ts3,Rs3[:,0,0],c='orange')\n",
    "\n",
    "ax3.set_title('$\\Omega_{12}$')\n",
    "ax3.set_xlabel('$t$')\n",
    "ax3.set_ylabel('$\\Omega_{12}$')\n",
    "#ax3.set_ylim(bottom=-1,top=1)\n",
    "ax3.plot(ts,Omegas[:,0,1],'--',linewidth=0.5,c='brown')\n",
    "ax3.plot(ts2,Omegas2[:,0,1],'--',linewidth=2,c='brown')\n",
    "ax3.plot(ts3,Omegas3[:,0,1],c='brown')"
   ]
  },
  {
   "cell_type": "markdown",
   "metadata": {},
   "source": [
    "Thin dotted line: dt=0.1, dashed line: dt=0.005, solid line: dt=0.0001. \n",
    "When testing the leapfrog,  modified algorithm passes all the same tests and has the same kind of poor stability as th e previous algorithm."
   ]
  }
 ],
 "metadata": {
  "kernelspec": {
   "display_name": "Python 3",
   "language": "python",
   "name": "python3"
  },
  "language_info": {
   "codemirror_mode": {
    "name": "ipython",
    "version": 3
   },
   "file_extension": ".py",
   "mimetype": "text/x-python",
   "name": "python",
   "nbconvert_exporter": "python",
   "pygments_lexer": "ipython3",
   "version": "3.5.3"
  }
 },
 "nbformat": 4,
 "nbformat_minor": 2
}
