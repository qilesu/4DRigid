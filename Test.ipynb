{
 "cells": [
  {
   "cell_type": "code",
   "execution_count": 1,
   "metadata": {},
   "outputs": [
    {
     "name": "stdout",
     "output_type": "stream",
     "text": [
      "/home/david/src/4DRigid/src\n"
     ]
    }
   ],
   "source": [
    "cd src"
   ]
  },
  {
   "cell_type": "code",
   "execution_count": 4,
   "metadata": {},
   "outputs": [],
   "source": [
    "import numpy as np\n",
    "import matplotlib.pyplot as plt\n",
    "import rotation\n",
    "import quat\n",
    "\n",
    "def test(L,J0,dt,N,dumpFreq):\n",
    "    qlsim=[1,0,0,0]\n",
    "    qrsim=[1,0,0,0]\n",
    "    qls=[qlsim]\n",
    "    qrs=[qrsim]\n",
    "    ts=[0]\n",
    "    tsim=0\n",
    "    \n",
    "    for i in range(N):\n",
    "        qlsim,qrsim=rotation.step(qlsim,qrsim,L,J0,dt)\n",
    "        tsim+=dt\n",
    "        if(i%dumpFreq==0):\n",
    "            qls.append(qlsim)\n",
    "            qrs.append(qrsim)\n",
    "            ts.append(tsim)\n",
    "            print(str(i)+'/'+str(N)+'\\r',end='')\n",
    "    qls=np.array(qls)   \n",
    "    qrs=np.array(qrs)\n",
    "    ts=np.array(ts)\n",
    "    Rs=[quat.get4Dmatrix(qls[i],qrs[i]) for i in range(len(qls))]\n",
    "    KEs=[rotation.getKE(qls[i],qrs[i],L,J0) for i in range(len(qls))]\n",
    "    Omegas=[rotation.solveOmega(qls[i],qrs[i],L,J0) for i in range(len(qls))]\n",
    "    Rs=np.array(Rs)\n",
    "    KEs=np.array(KEs)\n",
    "    Omegas=np.array(Omegas)\n",
    "    return ts,qls,qrs,Rs,KEs,Omegas"
   ]
  },
  {
   "cell_type": "markdown",
   "metadata": {},
   "source": [
    "## A constant rotation of a 4D sphere"
   ]
  },
  {
   "cell_type": "code",
   "execution_count": 3,
   "metadata": {
    "scrolled": true
   },
   "outputs": [
    {
     "name": "stdout",
     "output_type": "stream",
     "text": [
      "0/100\r",
      "1/100\r",
      "2/100\r",
      "3/100\r",
      "4/100\r",
      "5/100\r",
      "6/100\r",
      "7/100\r",
      "8/100\r",
      "9/100\r",
      "10/100\r",
      "11/100\r",
      "12/100\r",
      "13/100\r",
      "14/100\r",
      "15/100\r",
      "16/100\r",
      "17/100\r",
      "18/100\r",
      "19/100\r",
      "20/100\r",
      "21/100\r",
      "22/100\r",
      "23/100\r",
      "24/100\r",
      "25/100\r",
      "26/100\r",
      "27/100\r",
      "28/100\r",
      "29/100\r",
      "30/100\r",
      "31/100\r",
      "32/100\r",
      "33/100\r",
      "34/100\r",
      "35/100\r",
      "36/100\r",
      "37/100\r",
      "38/100\r",
      "39/100\r",
      "40/100\r",
      "41/100\r",
      "42/100\r",
      "43/100\r",
      "44/100\r",
      "45/100\r",
      "46/100\r",
      "47/100\r",
      "48/100\r",
      "49/100\r",
      "50/100\r",
      "51/100\r",
      "52/100\r",
      "53/100\r",
      "54/100\r",
      "55/100\r",
      "56/100\r",
      "57/100\r",
      "58/100\r",
      "59/100\r",
      "60/100\r",
      "61/100\r",
      "62/100\r",
      "63/100\r",
      "64/100\r",
      "65/100\r",
      "66/100\r",
      "67/100\r",
      "68/100\r",
      "69/100\r",
      "70/100\r",
      "71/100\r",
      "72/100\r",
      "73/100\r",
      "74/100\r",
      "75/100\r",
      "76/100\r",
      "77/100\r",
      "78/100\r",
      "79/100\r",
      "80/100\r",
      "81/100\r",
      "82/100\r",
      "83/100\r",
      "84/100\r",
      "85/100\r",
      "86/100\r",
      "87/100\r",
      "88/100\r",
      "89/100\r",
      "90/100\r",
      "91/100\r",
      "92/100\r",
      "93/100\r",
      "94/100\r",
      "95/100\r",
      "96/100\r",
      "97/100\r",
      "98/100\r",
      "99/100\r"
     ]
    },
    {
     "ename": "NameError",
     "evalue": "name 'quat' is not defined",
     "output_type": "error",
     "traceback": [
      "\u001b[0;31m---------------------------------------------------------------------------\u001b[0m",
      "\u001b[0;31mNameError\u001b[0m                                 Traceback (most recent call last)",
      "\u001b[0;32m<ipython-input-3-17f089d34a94>\u001b[0m in \u001b[0;36m<module>\u001b[0;34m()\u001b[0m\n\u001b[1;32m      7\u001b[0m \u001b[0mL\u001b[0m \u001b[0;34m=\u001b[0m \u001b[0mL\u001b[0m\u001b[0;34m-\u001b[0m\u001b[0mL\u001b[0m\u001b[0;34m.\u001b[0m\u001b[0mT\u001b[0m \u001b[0;31m# completes the lower half\u001b[0m\u001b[0;34m\u001b[0m\u001b[0m\n\u001b[1;32m      8\u001b[0m \u001b[0;31m# run test\u001b[0m\u001b[0;34m\u001b[0m\u001b[0;34m\u001b[0m\u001b[0m\n\u001b[0;32m----> 9\u001b[0;31m \u001b[0mts\u001b[0m\u001b[0;34m,\u001b[0m\u001b[0mqls\u001b[0m\u001b[0;34m,\u001b[0m\u001b[0mqrs\u001b[0m\u001b[0;34m,\u001b[0m\u001b[0mRs\u001b[0m\u001b[0;34m,\u001b[0m\u001b[0mKEs\u001b[0m\u001b[0;34m,\u001b[0m\u001b[0mOmegas\u001b[0m\u001b[0;34m=\u001b[0m\u001b[0mtest\u001b[0m\u001b[0;34m(\u001b[0m\u001b[0mL\u001b[0m\u001b[0;34m,\u001b[0m\u001b[0mJ0\u001b[0m\u001b[0;34m,\u001b[0m\u001b[0mdt\u001b[0m\u001b[0;34m=\u001b[0m\u001b[0;36m0.1\u001b[0m\u001b[0;34m,\u001b[0m\u001b[0mN\u001b[0m\u001b[0;34m=\u001b[0m\u001b[0;36m100\u001b[0m\u001b[0;34m,\u001b[0m\u001b[0mdumpFreq\u001b[0m\u001b[0;34m=\u001b[0m\u001b[0;36m1\u001b[0m\u001b[0;34m)\u001b[0m\u001b[0;34m\u001b[0m\u001b[0m\n\u001b[0m\u001b[1;32m     10\u001b[0m \u001b[0;34m\u001b[0m\u001b[0m\n\u001b[1;32m     11\u001b[0m \u001b[0mfig\u001b[0m \u001b[0;34m=\u001b[0m \u001b[0mplt\u001b[0m\u001b[0;34m.\u001b[0m\u001b[0mfigure\u001b[0m\u001b[0;34m(\u001b[0m\u001b[0mfigsize\u001b[0m\u001b[0;34m=\u001b[0m\u001b[0;34m(\u001b[0m\u001b[0;36m15\u001b[0m\u001b[0;34m,\u001b[0m\u001b[0;36m3\u001b[0m\u001b[0;34m)\u001b[0m\u001b[0;34m)\u001b[0m\u001b[0;34m\u001b[0m\u001b[0m\n",
      "\u001b[0;32m<ipython-input-2-59506edabaec>\u001b[0m in \u001b[0;36mtest\u001b[0;34m(L, J0, dt, N, dumpFreq)\u001b[0m\n\u001b[1;32m     22\u001b[0m     \u001b[0mqrs\u001b[0m\u001b[0;34m=\u001b[0m\u001b[0mnp\u001b[0m\u001b[0;34m.\u001b[0m\u001b[0marray\u001b[0m\u001b[0;34m(\u001b[0m\u001b[0mqrs\u001b[0m\u001b[0;34m)\u001b[0m\u001b[0;34m\u001b[0m\u001b[0m\n\u001b[1;32m     23\u001b[0m     \u001b[0mts\u001b[0m\u001b[0;34m=\u001b[0m\u001b[0mnp\u001b[0m\u001b[0;34m.\u001b[0m\u001b[0marray\u001b[0m\u001b[0;34m(\u001b[0m\u001b[0mts\u001b[0m\u001b[0;34m)\u001b[0m\u001b[0;34m\u001b[0m\u001b[0m\n\u001b[0;32m---> 24\u001b[0;31m     \u001b[0mRs\u001b[0m\u001b[0;34m=\u001b[0m\u001b[0;34m[\u001b[0m\u001b[0mquat\u001b[0m\u001b[0;34m.\u001b[0m\u001b[0mget4Dmatrix\u001b[0m\u001b[0;34m(\u001b[0m\u001b[0mqls\u001b[0m\u001b[0;34m[\u001b[0m\u001b[0mi\u001b[0m\u001b[0;34m]\u001b[0m\u001b[0;34m,\u001b[0m\u001b[0mqrs\u001b[0m\u001b[0;34m[\u001b[0m\u001b[0mi\u001b[0m\u001b[0;34m]\u001b[0m\u001b[0;34m)\u001b[0m \u001b[0;32mfor\u001b[0m \u001b[0mi\u001b[0m \u001b[0;32min\u001b[0m \u001b[0mrange\u001b[0m\u001b[0;34m(\u001b[0m\u001b[0mlen\u001b[0m\u001b[0;34m(\u001b[0m\u001b[0mqls\u001b[0m\u001b[0;34m)\u001b[0m\u001b[0;34m)\u001b[0m\u001b[0;34m]\u001b[0m\u001b[0;34m\u001b[0m\u001b[0m\n\u001b[0m\u001b[1;32m     25\u001b[0m     \u001b[0mKEs\u001b[0m\u001b[0;34m=\u001b[0m\u001b[0;34m[\u001b[0m\u001b[0mrotation\u001b[0m\u001b[0;34m.\u001b[0m\u001b[0mgetKE\u001b[0m\u001b[0;34m(\u001b[0m\u001b[0mqls\u001b[0m\u001b[0;34m[\u001b[0m\u001b[0mi\u001b[0m\u001b[0;34m]\u001b[0m\u001b[0;34m,\u001b[0m\u001b[0mqrs\u001b[0m\u001b[0;34m[\u001b[0m\u001b[0mi\u001b[0m\u001b[0;34m]\u001b[0m\u001b[0;34m,\u001b[0m\u001b[0mL\u001b[0m\u001b[0;34m,\u001b[0m\u001b[0mJ0\u001b[0m\u001b[0;34m)\u001b[0m \u001b[0;32mfor\u001b[0m \u001b[0mi\u001b[0m \u001b[0;32min\u001b[0m \u001b[0mrange\u001b[0m\u001b[0;34m(\u001b[0m\u001b[0mlen\u001b[0m\u001b[0;34m(\u001b[0m\u001b[0mqls\u001b[0m\u001b[0;34m)\u001b[0m\u001b[0;34m)\u001b[0m\u001b[0;34m]\u001b[0m\u001b[0;34m\u001b[0m\u001b[0m\n\u001b[1;32m     26\u001b[0m     \u001b[0mOmegas\u001b[0m\u001b[0;34m=\u001b[0m\u001b[0;34m[\u001b[0m\u001b[0mrotation\u001b[0m\u001b[0;34m.\u001b[0m\u001b[0msolveOmega\u001b[0m\u001b[0;34m(\u001b[0m\u001b[0mqls\u001b[0m\u001b[0;34m[\u001b[0m\u001b[0mi\u001b[0m\u001b[0;34m]\u001b[0m\u001b[0;34m,\u001b[0m\u001b[0mqrs\u001b[0m\u001b[0;34m[\u001b[0m\u001b[0mi\u001b[0m\u001b[0;34m]\u001b[0m\u001b[0;34m,\u001b[0m\u001b[0mL\u001b[0m\u001b[0;34m,\u001b[0m\u001b[0mJ0\u001b[0m\u001b[0;34m)\u001b[0m \u001b[0;32mfor\u001b[0m \u001b[0mi\u001b[0m \u001b[0;32min\u001b[0m \u001b[0mrange\u001b[0m\u001b[0;34m(\u001b[0m\u001b[0mlen\u001b[0m\u001b[0;34m(\u001b[0m\u001b[0mqls\u001b[0m\u001b[0;34m)\u001b[0m\u001b[0;34m)\u001b[0m\u001b[0;34m]\u001b[0m\u001b[0;34m\u001b[0m\u001b[0m\n",
      "\u001b[0;32m<ipython-input-2-59506edabaec>\u001b[0m in \u001b[0;36m<listcomp>\u001b[0;34m(.0)\u001b[0m\n\u001b[1;32m     22\u001b[0m     \u001b[0mqrs\u001b[0m\u001b[0;34m=\u001b[0m\u001b[0mnp\u001b[0m\u001b[0;34m.\u001b[0m\u001b[0marray\u001b[0m\u001b[0;34m(\u001b[0m\u001b[0mqrs\u001b[0m\u001b[0;34m)\u001b[0m\u001b[0;34m\u001b[0m\u001b[0m\n\u001b[1;32m     23\u001b[0m     \u001b[0mts\u001b[0m\u001b[0;34m=\u001b[0m\u001b[0mnp\u001b[0m\u001b[0;34m.\u001b[0m\u001b[0marray\u001b[0m\u001b[0;34m(\u001b[0m\u001b[0mts\u001b[0m\u001b[0;34m)\u001b[0m\u001b[0;34m\u001b[0m\u001b[0m\n\u001b[0;32m---> 24\u001b[0;31m     \u001b[0mRs\u001b[0m\u001b[0;34m=\u001b[0m\u001b[0;34m[\u001b[0m\u001b[0mquat\u001b[0m\u001b[0;34m.\u001b[0m\u001b[0mget4Dmatrix\u001b[0m\u001b[0;34m(\u001b[0m\u001b[0mqls\u001b[0m\u001b[0;34m[\u001b[0m\u001b[0mi\u001b[0m\u001b[0;34m]\u001b[0m\u001b[0;34m,\u001b[0m\u001b[0mqrs\u001b[0m\u001b[0;34m[\u001b[0m\u001b[0mi\u001b[0m\u001b[0;34m]\u001b[0m\u001b[0;34m)\u001b[0m \u001b[0;32mfor\u001b[0m \u001b[0mi\u001b[0m \u001b[0;32min\u001b[0m \u001b[0mrange\u001b[0m\u001b[0;34m(\u001b[0m\u001b[0mlen\u001b[0m\u001b[0;34m(\u001b[0m\u001b[0mqls\u001b[0m\u001b[0;34m)\u001b[0m\u001b[0;34m)\u001b[0m\u001b[0;34m]\u001b[0m\u001b[0;34m\u001b[0m\u001b[0m\n\u001b[0m\u001b[1;32m     25\u001b[0m     \u001b[0mKEs\u001b[0m\u001b[0;34m=\u001b[0m\u001b[0;34m[\u001b[0m\u001b[0mrotation\u001b[0m\u001b[0;34m.\u001b[0m\u001b[0mgetKE\u001b[0m\u001b[0;34m(\u001b[0m\u001b[0mqls\u001b[0m\u001b[0;34m[\u001b[0m\u001b[0mi\u001b[0m\u001b[0;34m]\u001b[0m\u001b[0;34m,\u001b[0m\u001b[0mqrs\u001b[0m\u001b[0;34m[\u001b[0m\u001b[0mi\u001b[0m\u001b[0;34m]\u001b[0m\u001b[0;34m,\u001b[0m\u001b[0mL\u001b[0m\u001b[0;34m,\u001b[0m\u001b[0mJ0\u001b[0m\u001b[0;34m)\u001b[0m \u001b[0;32mfor\u001b[0m \u001b[0mi\u001b[0m \u001b[0;32min\u001b[0m \u001b[0mrange\u001b[0m\u001b[0;34m(\u001b[0m\u001b[0mlen\u001b[0m\u001b[0;34m(\u001b[0m\u001b[0mqls\u001b[0m\u001b[0;34m)\u001b[0m\u001b[0;34m)\u001b[0m\u001b[0;34m]\u001b[0m\u001b[0;34m\u001b[0m\u001b[0m\n\u001b[1;32m     26\u001b[0m     \u001b[0mOmegas\u001b[0m\u001b[0;34m=\u001b[0m\u001b[0;34m[\u001b[0m\u001b[0mrotation\u001b[0m\u001b[0;34m.\u001b[0m\u001b[0msolveOmega\u001b[0m\u001b[0;34m(\u001b[0m\u001b[0mqls\u001b[0m\u001b[0;34m[\u001b[0m\u001b[0mi\u001b[0m\u001b[0;34m]\u001b[0m\u001b[0;34m,\u001b[0m\u001b[0mqrs\u001b[0m\u001b[0;34m[\u001b[0m\u001b[0mi\u001b[0m\u001b[0;34m]\u001b[0m\u001b[0;34m,\u001b[0m\u001b[0mL\u001b[0m\u001b[0;34m,\u001b[0m\u001b[0mJ0\u001b[0m\u001b[0;34m)\u001b[0m \u001b[0;32mfor\u001b[0m \u001b[0mi\u001b[0m \u001b[0;32min\u001b[0m \u001b[0mrange\u001b[0m\u001b[0;34m(\u001b[0m\u001b[0mlen\u001b[0m\u001b[0;34m(\u001b[0m\u001b[0mqls\u001b[0m\u001b[0;34m)\u001b[0m\u001b[0;34m)\u001b[0m\u001b[0;34m]\u001b[0m\u001b[0;34m\u001b[0m\u001b[0m\n",
      "\u001b[0;31mNameError\u001b[0m: name 'quat' is not defined"
     ]
    }
   ],
   "source": [
    "# test parameters\n",
    "J0 = np.diag([1,1,1,1]) # principal 2nd moments\n",
    "L = np.array([[0,1,0,0],\n",
    "              [0,0,0,0],\n",
    "              [0,0,0,0],\n",
    "              [0,0,0,0]])# Angular momentum, specify the upper triangle\n",
    "L = L-L.T # completes the lower half\n",
    "# run test\n",
    "ts,qls,qrs,Rs,KEs,Omegas=test(L,J0,dt=0.1,N=100,dumpFreq=1)\n",
    "\n",
    "fig = plt.figure(figsize=(15,3))\n",
    "ax=fig.add_subplot(131)\n",
    "ax2=fig.add_subplot(132)\n",
    "ax3=fig.add_subplot(133)\n",
    "\n",
    "ax.set_title('Kinetic Energy')\n",
    "ax.set_xlabel('$t$')\n",
    "ax.set_ylabel('$KE$')\n",
    "ax.set_ylim(bottom=0,top=1)\n",
    "ax.plot(ts,KEs,c='red')\n",
    "\n",
    "ax2.set_title('$R_{11},R_{21}$')\n",
    "ax2.set_xlabel('$t$')\n",
    "ax2.set_ylabel('$R_{11}$')\n",
    "#ax2.set_ylim(bottom=-1,top=1)\n",
    "ax2.plot(ts,Rs[:,0,0],c='orange')\n",
    "ax2.plot(ts,Rs[:,1,0],c='blue')\n",
    "\n",
    "ax3.set_title('$\\Omega_{12}$')\n",
    "ax3.set_xlabel('$t$')\n",
    "ax3.set_ylabel('$\\Omega_{12}$')\n",
    "ax3.set_ylim(bottom=-1,top=1)\n",
    "ax3.plot(ts,Omegas[:,0,1],c='brown')"
   ]
  },
  {
   "cell_type": "code",
   "execution_count": null,
   "metadata": {},
   "outputs": [],
   "source": [
    "print(Omegas[10])\n",
    "print(Rs[10])\n",
    "print(KEs[10])"
   ]
  },
  {
   "cell_type": "markdown",
   "metadata": {},
   "source": [
    "As seen above, only the xy moments should matter. We can collapse the zw dimensions onto the xy plane. We would have a 2D disk with non-uniform density $\\rho(r)$. In 2D, the only moment of inertia is\n",
    "$$I=\\sum_{\\alpha}m_{\\alpha}r_{\\alpha}^2=\\sum_{\\alpha}m_{\\alpha}x_{\\alpha}^2+\\sum_{\\alpha}m_{\\alpha}y_{\\alpha}^2=J_{xx}+J_{yy}$$\n",
    "In this case we have $J_{xx}=J_{yy}=1$. So $I=2$.\n",
    "In 2D we also have $L=I\\omega$ and $T=\\frac{1}{2}I\\omega^2$. Therefore\n",
    "$$\\omega=\\frac{L}{I}=\\frac{1}{2}$$\n",
    "$$T=\\frac{1}{2}\\cdot2\\cdot\\left(\\frac{1}{2}\\right)^2=\\frac{1}{4}$$\n",
    "Period of rotation is\n",
    "$$P=\\frac{2\\pi}{\\omega}=4\\pi$$\n",
    "In plot for $R_{11}$ we see a it traverses half an oscillation in $t=2\\pi$. All check."
   ]
  },
  {
   "cell_type": "markdown",
   "metadata": {},
   "source": [
    "## A general rotation, with three different timesteps"
   ]
  },
  {
   "cell_type": "code",
   "execution_count": null,
   "metadata": {},
   "outputs": [],
   "source": [
    "# test parameters\n",
    "J0 = np.diag([1,2,3,4]) # principal 2nd moments\n",
    "L = np.array([[0,1,20,3],\n",
    "              [0,0,10,10],\n",
    "              [0,0,0,1],\n",
    "              [0,0,0,0]])# Angular momentum, specify the upper triangle\n",
    "L = L-L.T # completes the lower half\n",
    "# run test\n",
    "ts,qls,qrs,Rs,KEs,Omegas=test(L,J0,dt=0.1,N=100,dumpFreq=1)\n",
    "ts2,qls2,qrs2,Rs2,KEs2,Omegas2=test(L,J0,dt=0.005,N=2000,dumpFreq=20)\n",
    "ts3,qls3,qrs3,Rs3,KEs3,Omegas3=test(L,J0,dt=0.0001,N=100000,dumpFreq=1000)"
   ]
  },
  {
   "cell_type": "code",
   "execution_count": null,
   "metadata": {
    "scrolled": true
   },
   "outputs": [],
   "source": [
    "fig = plt.figure(figsize=(15,3))\n",
    "ax=fig.add_subplot(131)\n",
    "ax2=fig.add_subplot(132)\n",
    "ax3=fig.add_subplot(133)\n",
    "\n",
    "ax.set_title('Kinetic Energy')\n",
    "ax.set_xlabel('$t$')\n",
    "ax.set_ylabel('$KE$')\n",
    "#ax.set_ylim(bottom=65,top=90)\n",
    "ax.plot(ts,KEs,'--',linewidth=0.5,c='red')\n",
    "ax.plot(ts2,KEs2,'--',linewidth=2,c='red')\n",
    "ax.plot(ts3,KEs3,c='red')\n",
    "\n",
    "ax2.set_title('$R_{11}$')\n",
    "ax2.set_xlabel('$t$')\n",
    "ax2.set_ylabel('$R_{11}$')\n",
    "#ax2.set_ylim(bottom=-1,top=1)\n",
    "ax2.plot(ts,Rs[:,0,0],'--',linewidth=0.5,c='orange')\n",
    "ax2.plot(ts2,Rs2[:,0,0],'--',linewidth=2,c='orange')\n",
    "ax2.plot(ts3,Rs3[:,0,0],c='orange')\n",
    "\n",
    "ax3.set_title('$\\Omega_{12}$')\n",
    "ax3.set_xlabel('$t$')\n",
    "ax3.set_ylabel('$\\Omega_{12}$')\n",
    "#ax3.set_ylim(bottom=-1,top=1)\n",
    "ax3.plot(ts,Omegas[:,0,1],'--',linewidth=0.5,c='brown')\n",
    "ax3.plot(ts2,Omegas2[:,0,1],'--',linewidth=2,c='brown')\n",
    "ax3.plot(ts3,Omegas3[:,0,1],c='brown')"
   ]
  },
  {
   "cell_type": "markdown",
   "metadata": {},
   "source": [
    "Thin dotted line: dt=0.1, dashed line: dt=0.005, solid line: dt=0.0001. The energy stability is very poor, which requires extra timesteps to ensure sufficient accuracy. The energy error also increases monotonically. Overall this is a poor algorithm."
   ]
  }
 ],
 "metadata": {
  "kernelspec": {
   "display_name": "Python 3",
   "language": "python",
   "name": "python3"
  },
  "language_info": {
   "codemirror_mode": {
    "name": "ipython",
    "version": 3
   },
   "file_extension": ".py",
   "mimetype": "text/x-python",
   "name": "python",
   "nbconvert_exporter": "python",
   "pygments_lexer": "ipython3",
   "version": "3.5.3"
  }
 },
 "nbformat": 4,
 "nbformat_minor": 2
}
