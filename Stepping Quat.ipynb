{
 "cells": [
  {
   "cell_type": "markdown",
   "metadata": {},
   "source": [
    "# Stepping Quaternions with the angular velocity matrix $\\Omega$\n",
    "\n",
    "From wikipedia https://en.wikipedia.org/wiki/Rotations_in_4-dimensional_Euclidean_space, a 4D rotation can be written in quaternion form, $p(t)=q_l(t)p_0q_r(t)$, where $q_l$ and $q_r$ are unit quaternions, and represents left and right isoclinic rotations, respectively.\n",
    "\n",
    "## Primers\n",
    "Multiplying on the left by a quaternion $q_l=a+bi+cj+dk$ is the same as multiplying on the left by a matrix\n",
    "$$\\vec{p}=\\begin{pmatrix}\n",
    "a&-b&-c&-d\\\\\n",
    "b&a&-d&c\\\\\n",
    "c&d&a&-b\\\\\n",
    "d&-c&b&a\n",
    "\\end{pmatrix}\\vec{p}_0=R_l\\vec{p}_0$$\n",
    "and multiplying on the right by a quaternion $q_r=p+qi+rj+sk$ is the same as multiplying on the left by a matrix\n",
    "$$\\vec{p}=\\begin{pmatrix}\n",
    "p&-q&-r&-s\\\\\n",
    "q&p&s&-r\\\\\n",
    "r&-s&p&q\\\\\n",
    "s&r&-q&p\n",
    "\\end{pmatrix}\\vec{p}_0=R_r\\vec{p}_0$$\n",
    "\n",
    "Because quaternion multiplication is associative,\n",
    "$$p=(q_lp_0)q_r=q_l(p_0q_r)$$\n",
    "Written in matrices\n",
    "$$\\vec{p}=R_rR_l\\vec{p}_0=R_lR_r\\vec{p}_0=R\\vec{p}_0$$\n",
    "The two kinds of matrices commute.\n",
    "\n",
    "## Main thing\n",
    "\n",
    "We have $p(t)=q_l(t)p_0q_r(t)$. Importantly, when $t=0$, $q'_l=q'_r=1$. This corresponds to $R\\vec{p}=R_l(t)R_r(t)\\vec{p}$. When $t=0$, $R_l=R_r=\\mathbb{1}$. $R_l$ corresponds to $q_l$ and $R_r$ corresponds to $q_r$.\n",
    "\n",
    "Now \n",
    "$$\\begin{align*}\\Omega&=\\dot{R}R^T\\\\\n",
    "&=\\frac{d}{dt}(R_lR_r)(R_lR_r)^T\\\\\n",
    "&=\\dot{R_l}R_rR_r^TR_l^T+R_l\\dot{R_r}R_r^TR_l^T\\\\\n",
    "\\end{align*}$$\n",
    "At $t=0$ we have $R_l=R_r=\\mathbb{1}$, therefore\n",
    "$$\\Omega=\\dot{R_l}+\\dot{R_r}$$\n",
    "\n",
    "Denote the transformation between quaternions and matrices as $R_l=T_l(q_l)$ and $R_r=T_r(q_r)$. This transformation as written out explicitly above is fixed and linear. Therefore\n",
    "$$\\dot{R_l}=T_l(\\dot{q_l})$$\n",
    "$$\\dot{R_r}=T_l(\\dot{q_r})$$\n",
    "\n",
    "Denote $\\dot{q_l}=a_1+a_2+a_3+a_4$, $\\dot{q_r}=b_1+b_2+b_3+b_4$, Then\n",
    "$$\\Omega_{21}=a_2+b_2$$\n",
    "$$\\Omega_{43}=a_2-b_2$$\n",
    "$$\\Omega_{31}=a_3+b_3$$\n",
    "$$\\Omega_{24}=a_3-b_3$$\n",
    "$$\\Omega_{41}=a_4+b_4$$\n",
    "$$\\Omega_{32}=a_4-b_4$$\n",
    "Solving this gives the 6 numbers we need. We don't have $a_1$ and $b_1$, but they can be determined by normalization."
   ]
  },
  {
   "cell_type": "code",
   "execution_count": null,
   "metadata": {},
   "outputs": [],
   "source": []
  }
 ],
 "metadata": {
  "kernelspec": {
   "display_name": "Python 3",
   "language": "python",
   "name": "python3"
  },
  "language_info": {
   "codemirror_mode": {
    "name": "ipython",
    "version": 3
   },
   "file_extension": ".py",
   "mimetype": "text/x-python",
   "name": "python",
   "nbconvert_exporter": "python",
   "pygments_lexer": "ipython3",
   "version": "3.5.3"
  }
 },
 "nbformat": 4,
 "nbformat_minor": 2
}
